{
 "cells": [
  {
   "cell_type": "code",
   "execution_count": null,
   "metadata": {},
   "outputs": [],
   "source": [
    "import pandas as pd\n",
    "\n",
    "# Define the data structure\n",
    "data = {\n",
    "    ('XGBoost', '100x100x100', 'Digit Time0'): ['value_1', 'value_2', 'value_3', 'value_4'],\n",
    "    ('XGBoost', '100x100x100', 'Accuracy'): ['value_5', 'value_6', 'value_7', 'value_8'],\n",
    "    ('XGBoost', '50x50x100', 'Digit Time0'): ['value_9', 'value_10', 'value_11', 'value_12'],\n",
    "    ('XGBoost', '50x50x100', 'Accuracy'): ['value_13', 'value_14', 'value_15', 'value_16'],\n",
    "    ('XGBoost', '25x25x100', 'Digit Time0'): ['value_17', 'value_18', 'value_19', 'value_20'],\n",
    "    ('XGBoost', '25x25x100', 'Accuracy'): ['value_21', 'value_22', 'value_23', 'value_24'],\n",
    "    ('DNN', '100x100x100', 'Digit Time0'): ['value_25', 'value_26', 'value_27', 'value_28'],\n",
    "    ('DNN', '100x100x100', 'Accuracy'): ['value_29', 'value_30', 'value_31', 'value_32'],\n",
    "    ('DNN', '50x50x100', 'Digit Time0'): ['value_33', 'value_34', 'value_35', 'value_36'],\n",
    "    ('DNN', '50x50x100', 'Accuracy'): ['value_37', 'value_38', 'value_39', 'value_40'],\n",
    "    ('DNN', '25x25x100', 'Digit Time0'): ['value_41', 'value_42', 'value_43', 'value_44'],\n",
    "    ('DNN', '25x25x100', 'Accuracy'): ['value_45', 'value_46', 'value_47', 'value_48'],\n",
    "}\n",
    "\n",
    "# Create a MultiIndex DataFrame\n",
    "df = pd.DataFrame(data)\n",
    "\n",
    "# Save DataFrame to CSV\n",
    "df.to_csv('granularity_table.csv')\n",
    "\n",
    "print(\"Table saved as 'granularity_table.csv'\")\n"
   ]
  },
  {
   "cell_type": "code",
   "execution_count": 1,
   "metadata": {},
   "outputs": [
    {
     "name": "stdout",
     "output_type": "stream",
     "text": [
      "DataFrame saved as PDF successfully!\n"
     ]
    }
   ],
   "source": [
    "import pandas as pd\n",
    "import matplotlib.pyplot as plt\n",
    "from matplotlib.backends.backend_pdf import PdfPages\n",
    "\n",
    "# Sample DataFrame\n",
    "data = {\n",
    "    ('XGBoost', '100x100x100', 'Digit Time0'): ['value_1', 'value_2', 'value_3', 'value_4'],\n",
    "    ('XGBoost', '100x100x100', 'Accuracy'): ['value_5', 'value_6', 'value_7', 'value_8'],\n",
    "    ('XGBoost', '50x50x100', 'Digit Time0'): ['value_9', 'value_10', 'value_11', 'value_12'],\n",
    "    ('XGBoost', '50x50x100', 'Accuracy'): ['value_13', 'value_14', 'value_15', 'value_16'],\n",
    "    ('DNN', '100x100x100', 'Digit Time0'): ['value_17', 'value_18', 'value_19', 'value_20'],\n",
    "    ('DNN', '100x100x100', 'Accuracy'): ['value_21', 'value_22', 'value_23', 'value_24']\n",
    "}\n",
    "df = pd.DataFrame(data)\n",
    "\n",
    "# Function to save the DataFrame as a PDF\n",
    "def save_df_to_pdf(dataframe, pdf_path):\n",
    "    fig, ax = plt.subplots(figsize=(10, 5))  # Adjust size as needed\n",
    "    ax.axis('tight')\n",
    "    ax.axis('off')\n",
    "    table = ax.table(cellText=dataframe.values, colLabels=dataframe.columns, rowLabels=dataframe.index, cellLoc='center', loc='center')\n",
    "    table.auto_set_font_size(False)\n",
    "    table.set_fontsize(10)\n",
    "    table.auto_set_column_width(col=list(range(len(dataframe.columns))))\n",
    "\n",
    "    # Save to PDF\n",
    "    with PdfPages(pdf_path) as pdf:\n",
    "        pdf.savefig(fig, bbox_inches='tight')\n",
    "    plt.close(fig)\n",
    "\n",
    "# Save the DataFrame as a PDF\n",
    "save_df_to_pdf(df, \"dataframe_table.pdf\")\n",
    "print(\"DataFrame saved as PDF successfully!\")\n"
   ]
  },
  {
   "cell_type": "code",
   "execution_count": 2,
   "metadata": {},
   "outputs": [
    {
     "name": "stdout",
     "output_type": "stream",
     "text": [
      "DataFrame saved as PDF successfully!\n"
     ]
    }
   ],
   "source": [
    "import pandas as pd\n",
    "import matplotlib.pyplot as plt\n",
    "from matplotlib.backends.backend_pdf import PdfPages\n",
    "\n",
    "# Define data structure\n",
    "data = {\n",
    "    \"Granularity\": [\n",
    "        \"100x100x100\", \"100x100x100\", \"100x100x100\", \"100x100x100\",  # 4 rows for 100x100x100\n",
    "        \"50x50x100\", \"50x50x100\", \"50x50x100\", \"50x50x100\",          # 4 rows for 50x50x100\n",
    "        \"25x25x100\", \"25x25x100\", \"25x25x100\", \"25x25x100\",          # 4 rows for 25x25x100\n",
    "        \"100x100x100\", \"50x50x100\", \"25x25x100\"                      # Label rows for separation\n",
    "    ],\n",
    "    \"Model\": [\n",
    "        \"XGBoost\", \"XGBoost\", \"DNN\", \"DNN\",                         # First granularity\n",
    "        \"XGBoost\", \"XGBoost\", \"DNN\", \"DNN\",                         # Second granularity\n",
    "        \"XGBoost\", \"XGBoost\", \"DNN\", \"DNN\",                         # Third granularity\n",
    "        \"\", \"\", \"\"                                                  # Label rows\n",
    "    ],\n",
    "    \"Digit Time0\": [\"Time0\"] * 12 + [\"\", \"\", \"\"],                   # Placeholder data\n",
    "    \"Accuracy\": [\"Acc\"] * 12 + [\"\", \"\", \"\"],                        # Placeholder data\n",
    "    \"Digit Time1\": [\"Time1\"] * 12 + [\"\", \"\", \"\"],                   # Placeholder data\n",
    "    \"Precision\": [\"Prec\"] * 12 + [\"\", \"\", \"\"]                       # Placeholder data\n",
    "}\n",
    "\n",
    "# Create DataFrame\n",
    "df = pd.DataFrame(data)\n",
    "\n",
    "# Define the function to save the DataFrame as a PDF table\n",
    "def save_df_to_pdf(dataframe, pdf_path):\n",
    "    fig, ax = plt.subplots(figsize=(10, 8))\n",
    "    ax.axis('tight')\n",
    "    ax.axis('off')\n",
    "    table = ax.table(cellText=dataframe.values, colLabels=dataframe.columns, cellLoc='center', loc='center')\n",
    "    table.auto_set_font_size(False)\n",
    "    table.set_fontsize(10)\n",
    "    table.auto_set_column_width(col=list(range(len(dataframe.columns))))\n",
    "\n",
    "    # Save to PDF\n",
    "    with PdfPages(pdf_path) as pdf:\n",
    "        pdf.savefig(fig, bbox_inches='tight')\n",
    "    plt.close(fig)\n",
    "\n",
    "# Save the DataFrame as a PDF\n",
    "save_df_to_pdf(df, \"data_structure_table.pdf\")\n",
    "print(\"DataFrame saved as PDF successfully!\")\n"
   ]
  }
 ],
 "metadata": {
  "kernelspec": {
   "display_name": "Python 3",
   "language": "python",
   "name": "python3"
  },
  "language_info": {
   "codemirror_mode": {
    "name": "ipython",
    "version": 3
   },
   "file_extension": ".py",
   "mimetype": "text/x-python",
   "name": "python",
   "nbconvert_exporter": "python",
   "pygments_lexer": "ipython3",
   "version": "3.9.18"
  }
 },
 "nbformat": 4,
 "nbformat_minor": 2
}
